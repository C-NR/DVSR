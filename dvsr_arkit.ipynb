{
 "cells": [
  {
   "cell_type": "code",
   "execution_count": null,
   "id": "5f266f5f",
   "metadata": {},
   "outputs": [],
   "source": [
    "import os\n",
    "import numpy as np\n",
    "import matplotlib.pyplot as plt\n",
    "import imageio\n",
    "import cv2"
   ]
  },
  {
   "cell_type": "markdown",
   "id": "40613d88",
   "metadata": {},
   "source": [
    "## Download ARKit data\n",
    "\n",
    "Use ARKitscenes downloading script to download lowres depth, image, and confidence frames. Please refer to ARKitscenes repo for more details: https://github.com/apple/ARKitScenes/blob/main/DATA.md\n",
    "\n",
    "Example:\n",
    "\n",
    "`python3 download_data.py raw --video_id 47333462 --raw_dataset_assets lowres_depth confidence vga_wide --split Training --download_dir ./`"
   ]
  },
  {
   "cell_type": "markdown",
   "id": "e9bbb2d8",
   "metadata": {},
   "source": [
    "## Pick video clip and convert to right format"
   ]
  },
  {
   "cell_type": "code",
   "execution_count": null,
   "id": "a2af7f46",
   "metadata": {},
   "outputs": [],
   "source": [
    "## ARKit raw data folders\n",
    "depth_dir = '/home/szhbchr/ARKitScenes/raw/Training/47333462/lowres_depth'\n",
    "color_dir = '/home/szhbchr/ARKitScenes/raw/Training/47333462/vga_wide'\n",
    "conf_dir = '/home/szhbchr/ARKitScenes/raw/Training/47333462/confidence'\n",
    "\n",
    "files_depth = sorted(os.listdir(depth_dir))\n",
    "files_color = sorted(os.listdir(color_dir))\n",
    "files_conf = sorted(os.listdir(conf_dir))\n",
    "\n",
    "## Processed input file folders\n",
    "depth_save = 'data/arkit_3_long/depth'\n",
    "color_save = 'data/arkit_3_long/color'\n",
    "conf_save = 'data/arkit_3_long/conf'\n",
    "\n",
    "if not os.path.exists(depth_save):\n",
    "    os.mkdir(depth_save)\n",
    "    os.mkdir(color_save)\n",
    "    os.mkdir(conf_save)\n",
    "\n",
    "## Video clip from frame 170-270, stride = 2\n",
    "for ii, idx in enumerate(np.arange(170, 270, 2)):\n",
    "    file_color = files_color[idx]\n",
    "    file_depth = files_depth[idx*2]\n",
    "    file_conf = files_conf[idx*2]\n",
    "    # print(file_color == file_depth)\n",
    "    img = imageio.imread(os.path.join(color_dir, file_color))\n",
    "    imageio.imwrite(os.path.join(color_save, '{:06d}.png'.format(ii)), img)\n",
    "    d = cv2.resize(imageio.imread(os.path.join(depth_dir, file_depth)), \\\n",
    "                   None, fx = 2.5, fy = 2.5, interpolation = cv2.INTER_AREA)\n",
    "    d = d.astype(np.float32)/256/17*10\n",
    "    np.save(os.path.join(depth_save, '{:06d}.npy'.format(ii)), d)\n",
    "    conf = cv2.resize(imageio.imread(os.path.join(conf_dir, file_conf)).astype(np.float32)/2.0, \\\n",
    "                   None, fx = 2.5, fy = 2.5, interpolation = cv2.INTER_AREA)\n",
    "    np.save(os.path.join(conf_save, '{:06d}.npy'.format(ii)), conf)"
   ]
  },
  {
   "cell_type": "markdown",
   "id": "a22861d6",
   "metadata": {},
   "source": [
    "## Run evalution code (downsample ARKit depth with confidence)"
   ]
  },
  {
   "cell_type": "code",
   "execution_count": null,
   "id": "e35254f1",
   "metadata": {
    "scrolled": true
   },
   "outputs": [],
   "source": [
    "!bash demo_arkit_conf.sh"
   ]
  },
  {
   "cell_type": "markdown",
   "id": "2693a346",
   "metadata": {},
   "source": [
    "## Visualize result"
   ]
  },
  {
   "cell_type": "code",
   "execution_count": null,
   "id": "dd4460d4",
   "metadata": {},
   "outputs": [],
   "source": [
    "pred = np.load('results/demo_arkit_3/{:08d}.npy'.format(20))[0,0]\n",
    "plt.imshow(pred, vmin = 0.0, vmax = 1.0)"
   ]
  }
 ],
 "metadata": {
  "kernelspec": {
   "display_name": "mmcv_new",
   "language": "python",
   "name": "mmcv_new"
  },
  "language_info": {
   "codemirror_mode": {
    "name": "ipython",
    "version": 3
   },
   "file_extension": ".py",
   "mimetype": "text/x-python",
   "name": "python",
   "nbconvert_exporter": "python",
   "pygments_lexer": "ipython3",
   "version": "3.8.18"
  }
 },
 "nbformat": 4,
 "nbformat_minor": 5
}
